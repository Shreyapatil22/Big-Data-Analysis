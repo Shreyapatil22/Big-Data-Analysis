{
 "cells": [
  {
   "cell_type": "code",
   "execution_count": 15,
   "id": "e297c616-1281-48e4-9ca5-1ac439a7425f",
   "metadata": {},
   "outputs": [
    {
     "name": "stdout",
     "output_type": "stream",
     "text": [
      "Requirement already satisfied: dask in c:\\users\\sanja\\anaconda3\\lib\\site-packages (2024.8.2)\n",
      "Requirement already satisfied: pandas in c:\\users\\sanja\\anaconda3\\lib\\site-packages (2.2.2)\n",
      "Requirement already satisfied: numpy in c:\\users\\sanja\\anaconda3\\lib\\site-packages (1.26.4)\n",
      "Requirement already satisfied: matplotlib in c:\\users\\sanja\\anaconda3\\lib\\site-packages (3.9.2)\n",
      "Requirement already satisfied: click>=8.1 in c:\\users\\sanja\\anaconda3\\lib\\site-packages (from dask) (8.1.7)\n",
      "Requirement already satisfied: cloudpickle>=3.0.0 in c:\\users\\sanja\\anaconda3\\lib\\site-packages (from dask) (3.0.0)\n",
      "Requirement already satisfied: fsspec>=2021.09.0 in c:\\users\\sanja\\anaconda3\\lib\\site-packages (from dask) (2024.6.1)\n",
      "Requirement already satisfied: packaging>=20.0 in c:\\users\\sanja\\anaconda3\\lib\\site-packages (from dask) (24.1)\n",
      "Requirement already satisfied: partd>=1.4.0 in c:\\users\\sanja\\anaconda3\\lib\\site-packages (from dask) (1.4.1)\n",
      "Requirement already satisfied: pyyaml>=5.3.1 in c:\\users\\sanja\\anaconda3\\lib\\site-packages (from dask) (6.0.1)\n",
      "Requirement already satisfied: toolz>=0.10.0 in c:\\users\\sanja\\anaconda3\\lib\\site-packages (from dask) (0.12.0)\n",
      "Requirement already satisfied: python-dateutil>=2.8.2 in c:\\users\\sanja\\anaconda3\\lib\\site-packages (from pandas) (2.9.0.post0)\n",
      "Requirement already satisfied: pytz>=2020.1 in c:\\users\\sanja\\anaconda3\\lib\\site-packages (from pandas) (2024.1)\n",
      "Requirement already satisfied: tzdata>=2022.7 in c:\\users\\sanja\\anaconda3\\lib\\site-packages (from pandas) (2023.3)\n",
      "Requirement already satisfied: contourpy>=1.0.1 in c:\\users\\sanja\\anaconda3\\lib\\site-packages (from matplotlib) (1.2.0)\n",
      "Requirement already satisfied: cycler>=0.10 in c:\\users\\sanja\\anaconda3\\lib\\site-packages (from matplotlib) (0.11.0)\n",
      "Requirement already satisfied: fonttools>=4.22.0 in c:\\users\\sanja\\anaconda3\\lib\\site-packages (from matplotlib) (4.51.0)\n",
      "Requirement already satisfied: kiwisolver>=1.3.1 in c:\\users\\sanja\\anaconda3\\lib\\site-packages (from matplotlib) (1.4.4)\n",
      "Requirement already satisfied: pillow>=8 in c:\\users\\sanja\\anaconda3\\lib\\site-packages (from matplotlib) (10.4.0)\n",
      "Requirement already satisfied: pyparsing>=2.3.1 in c:\\users\\sanja\\anaconda3\\lib\\site-packages (from matplotlib) (3.1.2)\n",
      "Requirement already satisfied: colorama in c:\\users\\sanja\\anaconda3\\lib\\site-packages (from click>=8.1->dask) (0.4.6)\n",
      "Requirement already satisfied: locket in c:\\users\\sanja\\anaconda3\\lib\\site-packages (from partd>=1.4.0->dask) (1.0.0)\n",
      "Requirement already satisfied: six>=1.5 in c:\\users\\sanja\\anaconda3\\lib\\site-packages (from python-dateutil>=2.8.2->pandas) (1.16.0)\n",
      "Note: you may need to restart the kernel to use updated packages.\n"
     ]
    }
   ],
   "source": [
    "pip install dask pandas numpy matplotlib"
   ]
  },
  {
   "cell_type": "code",
   "execution_count": 3,
   "id": "0213d8bf-07ab-4317-8b63-78f2468afca8",
   "metadata": {},
   "outputs": [],
   "source": [
    "#For big data processing \n",
    "import dask.dataframe as dd\n",
    "#For comparision\n",
    "import pandas as pd\n",
    "#For numerical operations\n",
    "import numpy as np\n",
    "#For measuring execution speed\n",
    "import time\n",
    "#For visualization\n",
    "import matplotlib.pyplot as plt"
   ]
  },
  {
   "cell_type": "code",
   "execution_count": 4,
   "id": "d216ba01-cb65-4a1e-8cfe-bb4ca1a21b39",
   "metadata": {},
   "outputs": [
    {
     "name": "stdout",
     "output_type": "stream",
     "text": [
      "Dataset saved at: large_dataset.csv\n"
     ]
    }
   ],
   "source": [
    "# Simulating a dataset with 1 lakh (100,000) rows\n",
    "num_rows = 100_000\n",
    "df = pd.DataFrame({\n",
    "    'id': np.arange(num_rows),\n",
    "    'value': np.random.randint(1, 1000, size=num_rows),\n",
    "    'category': np.random.choice(['A', 'B', 'C', 'D'], size=num_rows),\n",
    "    'timestamp': pd.date_range(start='1/1/2022', periods=num_rows, freq='min')  # Fixed warning\n",
    "})\n",
    "\n",
    "# Save dataset as CSV\n",
    "csv_path = \"large_dataset.csv\"\n",
    "df.to_csv(csv_path, index=False)\n",
    "print(f\"Dataset saved at: {csv_path}\")"
   ]
  },
  {
   "cell_type": "code",
   "execution_count": 5,
   "id": "5dbec27e-66d4-4e8f-8d5a-0a3f3f01e0e5",
   "metadata": {},
   "outputs": [
    {
     "name": "stdout",
     "output_type": "stream",
     "text": [
      "Columns in Dask DataFrame: Index(['id', 'value', 'category', 'timestamp'], dtype='object')\n",
      "    id  value category            timestamp\n",
      "0  0.0   33.0        D  2022-01-01 00:00:00\n",
      "1  1.0  130.0        A  2022-01-01 00:01:00\n",
      "2  2.0   31.0        A  2022-01-01 00:02:00\n",
      "3  3.0  244.0        C  2022-01-01 00:03:00\n",
      "4  4.0  146.0        D  2022-01-01 00:04:00\n"
     ]
    }
   ],
   "source": [
    "# Load dataset using Dask with explicit data types\n",
    "dask_df = dd.read_csv(csv_path, dtype={'category': 'object'}, assume_missing=True)\n",
    "\n",
    "# Verify column names\n",
    "print(\"Columns in Dask DataFrame:\", dask_df.columns)\n",
    "\n",
    "# Display few rows\n",
    "print(dask_df.head())"
   ]
  },
  {
   "cell_type": "code",
   "execution_count": 6,
   "id": "f8d0c6e0-2470-427b-adee-0570123ae958",
   "metadata": {},
   "outputs": [
    {
     "name": "stdout",
     "output_type": "stream",
     "text": [
      "\n",
      "Pandas Basic Statistics:\n",
      " count    100000.000000\n",
      "mean        500.787970\n",
      "std         288.381942\n",
      "min           1.000000\n",
      "25%         250.000000\n",
      "50%         500.000000\n",
      "75%         751.000000\n",
      "max         999.000000\n",
      "Name: value, dtype: float64\n",
      "\n",
      "Dask Basic Statistics:\n",
      " count    100000.000000\n",
      "mean        500.787970\n",
      "std         288.381942\n",
      "min           1.000000\n",
      "25%         250.000000\n",
      "50%         500.000000\n",
      "75%         751.000000\n",
      "max         999.000000\n",
      "Name: value, dtype: float64\n",
      "Pandas Time: 0.0133 seconds, Dask Time: 0.1414 seconds\n"
     ]
    }
   ],
   "source": [
    "# Pandas Statistics\n",
    "start_time = time.time()\n",
    "pandas_stats = df['value'].describe()\n",
    "#Measure execution time\n",
    "pandas_stats_time = time.time() - start_time\n",
    "\n",
    "# Dask Statistics\n",
    "start_time = time.time()\n",
    "dask_stats = dask_df['value'].describe().compute()\n",
    "#Measure execution time\n",
    "dask_stats_time = time.time() - start_time\n",
    "\n",
    "#Print results\n",
    "print(\"\\nPandas Basic Statistics:\\n\", pandas_stats)\n",
    "print(\"\\nDask Basic Statistics:\\n\", dask_stats)\n",
    "print(f\"Pandas Time: {pandas_stats_time:.4f} seconds, Dask Time: {dask_stats_time:.4f} seconds\")"
   ]
  },
  {
   "cell_type": "code",
   "execution_count": 7,
   "id": "fc798b90-37f2-4884-9015-c84e03ad7e10",
   "metadata": {},
   "outputs": [
    {
     "name": "stdout",
     "output_type": "stream",
     "text": [
      "\n",
      "Pandas Category Distribution:\n",
      " category\n",
      "D    25328\n",
      "C    25046\n",
      "A    24848\n",
      "B    24778\n",
      "Name: count, dtype: int64\n",
      "\n",
      "Dask Category Distribution:\n",
      " category\n",
      "A    24848\n",
      "B    24778\n",
      "C    25046\n",
      "D    25328\n",
      "Name: count, dtype: int64\n",
      "Pandas Time: 0.0100 seconds, Dask Time: 0.2089 seconds\n"
     ]
    }
   ],
   "source": [
    "# Pandas Category count\n",
    "start_time = time.time()\n",
    "pandas_category_count = df['category'].value_counts()\n",
    "#Measure execution time\n",
    "pandas_category_time = time.time() - start_time\n",
    "\n",
    "# Dask Count\n",
    "start_time = time.time()\n",
    "#Compute using dask\n",
    "dask_category_count = dask_df['category'].value_counts().compute()\n",
    "#Measure execution time\n",
    "dask_category_time = time.time() - start_time\n",
    "\n",
    "#Print results\n",
    "print(\"\\nPandas Category Distribution:\\n\", pandas_category_count)\n",
    "print(\"\\nDask Category Distribution:\\n\", dask_category_count)\n",
    "print(f\"Pandas Time: {pandas_category_time:.4f} seconds, Dask Time: {dask_category_time:.4f} seconds\")"
   ]
  },
  {
   "cell_type": "code",
   "execution_count": 8,
   "id": "db6f155b-b600-4494-be65-fe4f349ec53c",
   "metadata": {},
   "outputs": [
    {
     "name": "stdout",
     "output_type": "stream",
     "text": [
      "\n",
      "Pandas Value by Hour:\n",
      " hour\n",
      "0     495.712381\n",
      "1     501.326190\n",
      "2     501.881429\n",
      "3     495.588095\n",
      "4     504.311667\n",
      "5     498.306667\n",
      "6     505.085000\n",
      "7     511.308571\n",
      "8     503.564524\n",
      "9     491.689048\n",
      "10    505.343062\n",
      "11    500.072705\n",
      "12    499.981401\n",
      "13    495.346135\n",
      "14    502.274638\n",
      "15    504.764734\n",
      "16    499.851208\n",
      "17    506.015700\n",
      "18    500.424879\n",
      "19    494.632126\n",
      "20    497.272947\n",
      "21    501.918841\n",
      "22    503.919565\n",
      "23    498.262802\n",
      "Name: value, dtype: float64\n",
      "\n",
      "Dask Value by Hour:\n",
      " hour\n",
      "0     495.712381\n",
      "1     501.326190\n",
      "2     501.881429\n",
      "3     495.588095\n",
      "4     504.311667\n",
      "5     498.306667\n",
      "6     505.085000\n",
      "7     511.308571\n",
      "8     503.564524\n",
      "9     491.689048\n",
      "10    505.343062\n",
      "11    500.072705\n",
      "12    499.981401\n",
      "13    495.346135\n",
      "14    502.274638\n",
      "15    504.764734\n",
      "16    499.851208\n",
      "17    506.015700\n",
      "18    500.424879\n",
      "19    494.632126\n",
      "20    497.272947\n",
      "21    501.918841\n",
      "22    503.919565\n",
      "23    498.262802\n",
      "Name: value, dtype: float64\n",
      "Pandas Time: 0.0138 seconds, Dask Time: 0.2945 seconds\n"
     ]
    }
   ],
   "source": [
    "# Convert timestamp column to datetime (Pandas)\n",
    "df['hour'] = df['timestamp'].dt.hour\n",
    "#Pandas time based aggregation\n",
    "start_time = time.time()\n",
    "pandas_time_series = df.groupby('hour')['value'].mean()\n",
    "pandas_time_series_time = time.time() - start_time\n",
    "\n",
    "# Dask Time Aggregation\n",
    "dask_df['timestamp'] = dd.to_datetime(dask_df['timestamp'])\n",
    "dask_df['hour'] = dask_df['timestamp'].dt.hour\n",
    "start_time = time.time()\n",
    "#Compute using dask\n",
    "dask_time_series = dask_df.groupby('hour')['value'].mean().compute()\n",
    "#Measure execution time\n",
    "dask_time_series_time = time.time() - start_time\n",
    "\n",
    "#Print results\n",
    "print(\"\\nPandas Value by Hour:\\n\", pandas_time_series)\n",
    "print(\"\\nDask Value by Hour:\\n\", dask_time_series)\n",
    "print(f\"Pandas Time: {pandas_time_series_time:.4f} seconds, Dask Time: {dask_time_series_time:.4f} seconds\")"
   ]
  },
  {
   "cell_type": "code",
   "execution_count": 9,
   "id": "9e5fb078-3e91-4789-b3b4-89b3d1c285d0",
   "metadata": {},
   "outputs": [
    {
     "data": {
      "image/png": "[encoded data removed]",
      "text/plain": [
       "<Figure size 1000x400 with 1 Axes>"
      ]
     },
     "metadata": {},
     "output_type": "display_data"
    }
   ],
   "source": [
    "# Plot Category Distribution\n",
    "plt.figure(figsize=(10, 4))\n",
    "pandas_category_count.plot(kind='bar', color=['blue', 'green', 'red', 'purple'])\n",
    "plt.title(\"Category Distribution (Pandas)\")\n",
    "plt.xlabel(\"Category\")\n",
    "plt.ylabel(\"Count\")\n",
    "plt.show()\n"
   ]
  },
  {
   "cell_type": "code",
   "execution_count": 12,
   "id": "eac57a0f-0022-4d7d-8c88-97dd42a22117",
   "metadata": {},
   "outputs": [
    {
     "name": "stdout",
     "output_type": "stream",
     "text": [
      "\n",
      "Insights from Analysis:\n",
      "Basic Stats - Pandas: {'count': 100000.0, 'mean': 500.78797, 'std': 288.3819415544616, 'min': 1.0, '25%': 250.0, '50%': 500.0, '75%': 751.0, 'max': 999.0}\n",
      "Basic Stats - Dask: {'count': 100000.0, 'mean': 500.78797, 'std': 288.3819415544622, 'min': 1.0, '25%': 250.0, '50%': 500.0, '75%': 751.0, 'max': 999.0}\n",
      "Category Count - Pandas: {'D': 25328, 'C': 25046, 'A': 24848, 'B': 24778}\n",
      "Category Count - Dask: {'A': 24848, 'B': 24778, 'C': 25046, 'D': 25328}\n",
      "Mean Value by Hour - Pandas: {0: 495.71238095238095, 1: 501.3261904761905, 2: 501.88142857142856, 3: 495.58809523809526, 4: 504.31166666666667, 5: 498.3066666666667, 6: 505.085, 7: 511.30857142857144, 8: 503.5645238095238, 9: 491.68904761904764, 10: 505.3430622009569, 11: 500.0727053140097, 12: 499.98140096618357, 13: 495.34613526570047, 14: 502.27463768115945, 15: 504.76473429951693, 16: 499.8512077294686, 17: 506.0157004830918, 18: 500.42487922705317, 19: 494.6321256038647, 20: 497.27294685990336, 21: 501.91884057971015, 22: 503.9195652173913, 23: 498.26280193236715}\n",
      "Mean Value by Hour - Dask: {0: 495.71238095238095, 1: 501.3261904761905, 2: 501.88142857142856, 3: 495.58809523809526, 4: 504.31166666666667, 5: 498.3066666666667, 6: 505.085, 7: 511.30857142857144, 8: 503.5645238095238, 9: 491.68904761904764, 10: 505.3430622009569, 11: 500.0727053140097, 12: 499.98140096618357, 13: 495.34613526570047, 14: 502.27463768115945, 15: 504.76473429951693, 16: 499.8512077294686, 17: 506.0157004830918, 18: 500.42487922705317, 19: 494.6321256038647, 20: 497.27294685990336, 21: 501.91884057971015, 22: 503.9195652173913, 23: 498.26280193236715}\n",
      "Execution Time (Pandas Stats): 0.013340950012207031\n",
      "Execution Time (Dask Stats): 0.14137983322143555\n",
      "Execution Time (Pandas Category Count): 0.01000213623046875\n",
      "Execution Time (Dask Category Count): 0.20885276794433594\n",
      "Execution Time (Pandas Time-Series): 0.013839483261108398\n",
      "Execution Time (Dask Time-Series): 0.29451799392700195\n"
     ]
    }
   ],
   "source": [
    "insights = {\n",
    "    \"Basic Stats - Pandas\": pandas_stats.to_dict(),\n",
    "    \"Basic Stats - Dask\": dask_stats.to_dict(),\n",
    "    \"Category Count - Pandas\": pandas_category_count.to_dict(),\n",
    "    \"Category Count - Dask\": dask_category_count.to_dict(),\n",
    "    \"Mean Value by Hour - Pandas\": pandas_time_series.to_dict(),\n",
    "    \"Mean Value by Hour - Dask\": dask_time_series.to_dict(),\n",
    "    \"Execution Time (Pandas Stats)\": pandas_stats_time,\n",
    "    \"Execution Time (Dask Stats)\": dask_stats_time,\n",
    "    \"Execution Time (Pandas Category Count)\": pandas_category_time,\n",
    "    \"Execution Time (Dask Category Count)\": dask_category_time,\n",
    "    \"Execution Time (Pandas Time-Series)\": pandas_time_series_time,\n",
    "    \"Execution Time (Dask Time-Series)\": dask_time_series_time\n",
    "}\n",
    "\n",
    "#Print insights\n",
    "print(\"\\nInsights from Analysis:\")\n",
    "for key, value in insights.items():\n",
    "    print(f\"{key}: {value}\")"
   ]
  },
  {
   "cell_type": "code",
   "execution_count": null,
   "id": "4b45b58f-4548-4066-ad32-4e58f716cf00",
   "metadata": {},
   "outputs": [],
   "source": []
  }
 ],
 "metadata": {
  "kernelspec": {
   "display_name": "Python 3 (ipykernel)",
   "language": "python",
   "name": "python3"
  },
  "language_info": {
   "codemirror_mode": {
    "name": "ipython",
    "version": 3
   },
   "file_extension": ".py",
   "mimetype": "text/x-python",
   "name": "python",
   "nbconvert_exporter": "python",
   "pygments_lexer": "ipython3",
   "version": "3.12.7"
  }
 },
 "nbformat": 4,
 "nbformat_minor": 5
}
