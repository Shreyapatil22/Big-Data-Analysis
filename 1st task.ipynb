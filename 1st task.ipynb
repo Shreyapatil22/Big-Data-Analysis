{
 "cells": [
  {
   "cell_type": "code",
   "execution_count": 15,
   "id": "e297c616-1281-48e4-9ca5-1ac439a7425f",
   "metadata": {},
   "outputs": [
    {
     "name": "stdout",
     "output_type": "stream",
     "text": [
      "Requirement already satisfied: dask in c:\\users\\sanja\\anaconda3\\lib\\site-packages (2024.8.2)\n",
      "Requirement already satisfied: pandas in c:\\users\\sanja\\anaconda3\\lib\\site-packages (2.2.2)\n",
      "Requirement already satisfied: numpy in c:\\users\\sanja\\anaconda3\\lib\\site-packages (1.26.4)\n",
      "Requirement already satisfied: matplotlib in c:\\users\\sanja\\anaconda3\\lib\\site-packages (3.9.2)\n",
      "Requirement already satisfied: click>=8.1 in c:\\users\\sanja\\anaconda3\\lib\\site-packages (from dask) (8.1.7)\n",
      "Requirement already satisfied: cloudpickle>=3.0.0 in c:\\users\\sanja\\anaconda3\\lib\\site-packages (from dask) (3.0.0)\n",
      "Requirement already satisfied: fsspec>=2021.09.0 in c:\\users\\sanja\\anaconda3\\lib\\site-packages (from dask) (2024.6.1)\n",
      "Requirement already satisfied: packaging>=20.0 in c:\\users\\sanja\\anaconda3\\lib\\site-packages (from dask) (24.1)\n",
      "Requirement already satisfied: partd>=1.4.0 in c:\\users\\sanja\\anaconda3\\lib\\site-packages (from dask) (1.4.1)\n",
      "Requirement already satisfied: pyyaml>=5.3.1 in c:\\users\\sanja\\anaconda3\\lib\\site-packages (from dask) (6.0.1)\n",
      "Requirement already satisfied: toolz>=0.10.0 in c:\\users\\sanja\\anaconda3\\lib\\site-packages (from dask) (0.12.0)\n",
      "Requirement already satisfied: python-dateutil>=2.8.2 in c:\\users\\sanja\\anaconda3\\lib\\site-packages (from pandas) (2.9.0.post0)\n",
      "Requirement already satisfied: pytz>=2020.1 in c:\\users\\sanja\\anaconda3\\lib\\site-packages (from pandas) (2024.1)\n",
      "Requirement already satisfied: tzdata>=2022.7 in c:\\users\\sanja\\anaconda3\\lib\\site-packages (from pandas) (2023.3)\n",
      "Requirement already satisfied: contourpy>=1.0.1 in c:\\users\\sanja\\anaconda3\\lib\\site-packages (from matplotlib) (1.2.0)\n",
      "Requirement already satisfied: cycler>=0.10 in c:\\users\\sanja\\anaconda3\\lib\\site-packages (from matplotlib) (0.11.0)\n",
      "Requirement already satisfied: fonttools>=4.22.0 in c:\\users\\sanja\\anaconda3\\lib\\site-packages (from matplotlib) (4.51.0)\n",
      "Requirement already satisfied: kiwisolver>=1.3.1 in c:\\users\\sanja\\anaconda3\\lib\\site-packages (from matplotlib) (1.4.4)\n",
      "Requirement already satisfied: pillow>=8 in c:\\users\\sanja\\anaconda3\\lib\\site-packages (from matplotlib) (10.4.0)\n",
      "Requirement already satisfied: pyparsing>=2.3.1 in c:\\users\\sanja\\anaconda3\\lib\\site-packages (from matplotlib) (3.1.2)\n",
      "Requirement already satisfied: colorama in c:\\users\\sanja\\anaconda3\\lib\\site-packages (from click>=8.1->dask) (0.4.6)\n",
      "Requirement already satisfied: locket in c:\\users\\sanja\\anaconda3\\lib\\site-packages (from partd>=1.4.0->dask) (1.0.0)\n",
      "Requirement already satisfied: six>=1.5 in c:\\users\\sanja\\anaconda3\\lib\\site-packages (from python-dateutil>=2.8.2->pandas) (1.16.0)\n",
      "Note: you may need to restart the kernel to use updated packages.\n"
     ]
    }
   ],
   "source": [
    "pip install dask pandas numpy matplotlib"
   ]
  },
  {
   "cell_type": "code",
   "execution_count": 1,
   "id": "0213d8bf-07ab-4317-8b63-78f2468afca8",
   "metadata": {},
   "outputs": [],
   "source": [
    "import dask.dataframe as dd\n",
    "import pandas as pd\n",
    "import numpy as np\n",
    "import time\n",
    "import matplotlib.pyplot as plt"
   ]
  },
  {
   "cell_type": "code",
   "execution_count": 3,
   "id": "d216ba01-cb65-4a1e-8cfe-bb4ca1a21b39",
   "metadata": {},
   "outputs": [
    {
     "name": "stdout",
     "output_type": "stream",
     "text": [
      "Dataset saved at: large_dataset.csv\n"
     ]
    }
   ],
   "source": [
    "# Simulating a dataset with 1 lakh (100,000) rows\n",
    "num_rows = 100_000\n",
    "df = pd.DataFrame({\n",
    "    'id': np.arange(num_rows),\n",
    "    'value': np.random.randint(1, 1000, size=num_rows),\n",
    "    'category': np.random.choice(['A', 'B', 'C', 'D'], size=num_rows),\n",
    "    'timestamp': pd.date_range(start='1/1/2022', periods=num_rows, freq='min')  # Fixed warning\n",
    "})\n",
    "\n",
    "# Save dataset as CSV\n",
    "csv_path = \"large_dataset.csv\"\n",
    "df.to_csv(csv_path, index=False)\n",
    "print(f\"Dataset saved at: {csv_path}\")"
   ]
  },
  {
   "cell_type": "code",
   "execution_count": 4,
   "id": "5dbec27e-66d4-4e8f-8d5a-0a3f3f01e0e5",
   "metadata": {},
   "outputs": [
    {
     "name": "stdout",
     "output_type": "stream",
     "text": [
      "Columns in Dask DataFrame: Index(['id', 'value', 'category', 'timestamp'], dtype='object')\n",
      "    id  value category            timestamp\n",
      "0  0.0  317.0        D  2022-01-01 00:00:00\n",
      "1  1.0  324.0        D  2022-01-01 00:01:00\n",
      "2  2.0  317.0        B  2022-01-01 00:02:00\n",
      "3  3.0  846.0        C  2022-01-01 00:03:00\n",
      "4  4.0  353.0        C  2022-01-01 00:04:00\n"
     ]
    }
   ],
   "source": [
    "# Load dataset using Dask with explicit data types\n",
    "dask_df = dd.read_csv(csv_path, dtype={'category': 'object'}, assume_missing=True)\n",
    "\n",
    "# Verify column names\n",
    "print(\"Columns in Dask DataFrame:\", dask_df.columns)\n",
    "\n",
    "# Display basic info\n",
    "print(dask_df.head())"
   ]
  },
  {
   "cell_type": "code",
   "execution_count": 6,
   "id": "f8d0c6e0-2470-427b-adee-0570123ae958",
   "metadata": {},
   "outputs": [
    {
     "name": "stdout",
     "output_type": "stream",
     "text": [
      "\n",
      "Pandas Basic Statistics:\n",
      " count    100000.000000\n",
      "mean        499.068410\n",
      "std         288.713532\n",
      "min           1.000000\n",
      "25%         249.000000\n",
      "50%         498.000000\n",
      "75%         749.000000\n",
      "max         999.000000\n",
      "Name: value, dtype: float64\n",
      "\n",
      "Dask Basic Statistics:\n",
      " count    100000.000000\n",
      "mean        499.068410\n",
      "std         288.713532\n",
      "min           1.000000\n",
      "25%         249.000000\n",
      "50%         498.000000\n",
      "75%         749.000000\n",
      "max         999.000000\n",
      "Name: value, dtype: float64\n",
      "Pandas Time: 0.0120 seconds, Dask Time: 0.0970 seconds\n"
     ]
    }
   ],
   "source": [
    "# Pandas Statistics\n",
    "start_time = time.time()\n",
    "pandas_stats = df['value'].describe()\n",
    "pandas_stats_time = time.time() - start_time\n",
    "\n",
    "# Dask Statistics\n",
    "start_time = time.time()\n",
    "dask_stats = dask_df['value'].describe().compute()\n",
    "dask_stats_time = time.time() - start_time\n",
    "\n",
    "print(\"\\nPandas Basic Statistics:\\n\", pandas_stats)\n",
    "print(\"\\nDask Basic Statistics:\\n\", dask_stats)\n",
    "print(f\"Pandas Time: {pandas_stats_time:.4f} seconds, Dask Time: {dask_stats_time:.4f} seconds\")"
   ]
  },
  {
   "cell_type": "code",
   "execution_count": 11,
   "id": "fc798b90-37f2-4884-9015-c84e03ad7e10",
   "metadata": {},
   "outputs": [
    {
     "name": "stdout",
     "output_type": "stream",
     "text": [
      "\n",
      "Pandas Category Distribution:\n",
      " category\n",
      "C    25109\n",
      "A    25025\n",
      "D    24943\n",
      "B    24923\n",
      "Name: count, dtype: int64\n",
      "\n",
      "Dask Category Distribution:\n",
      " category\n",
      "A    25025\n",
      "B    24923\n",
      "C    25109\n",
      "D    24943\n",
      "Name: count, dtype: int64\n",
      "Pandas Time: 0.0169 seconds, Dask Time: 0.2050 seconds\n"
     ]
    }
   ],
   "source": [
    "# Pandas Count\n",
    "start_time = time.time()\n",
    "pandas_category_count = df['category'].value_counts()\n",
    "pandas_category_time = time.time() - start_time\n",
    "\n",
    "# Dask Count\n",
    "start_time = time.time()\n",
    "dask_category_count = dask_df['category'].value_counts().compute()\n",
    "dask_category_time = time.time() - start_time\n",
    "\n",
    "print(\"\\nPandas Category Distribution:\\n\", pandas_category_count)\n",
    "print(\"\\nDask Category Distribution:\\n\", dask_category_count)\n",
    "print(f\"Pandas Time: {pandas_category_time:.4f} seconds, Dask Time: {dask_category_time:.4f} seconds\")"
   ]
  },
  {
   "cell_type": "code",
   "execution_count": 12,
   "id": "db6f155b-b600-4494-be65-fe4f349ec53c",
   "metadata": {},
   "outputs": [
    {
     "name": "stdout",
     "output_type": "stream",
     "text": [
      "\n",
      "Pandas Value by Hour:\n",
      " hour\n",
      "0     500.428095\n",
      "1     495.704286\n",
      "2     502.143810\n",
      "3     503.215952\n",
      "4     498.365952\n",
      "5     499.211905\n",
      "6     494.689048\n",
      "7     498.065000\n",
      "8     499.377619\n",
      "9     491.997381\n",
      "10    500.589952\n",
      "11    498.399034\n",
      "12    508.125845\n",
      "13    496.927053\n",
      "14    494.462077\n",
      "15    493.007488\n",
      "16    501.945652\n",
      "17    500.721014\n",
      "18    494.120290\n",
      "19    503.436232\n",
      "20    494.412077\n",
      "21    503.523430\n",
      "22    501.441787\n",
      "23    503.424638\n",
      "Name: value, dtype: float64\n",
      "\n",
      "Dask Value by Hour:\n",
      " hour\n",
      "0     500.428095\n",
      "1     495.704286\n",
      "2     502.143810\n",
      "3     503.215952\n",
      "4     498.365952\n",
      "5     499.211905\n",
      "6     494.689048\n",
      "7     498.065000\n",
      "8     499.377619\n",
      "9     491.997381\n",
      "10    500.589952\n",
      "11    498.399034\n",
      "12    508.125845\n",
      "13    496.927053\n",
      "14    494.462077\n",
      "15    493.007488\n",
      "16    501.945652\n",
      "17    500.721014\n",
      "18    494.120290\n",
      "19    503.436232\n",
      "20    494.412077\n",
      "21    503.523430\n",
      "22    501.441787\n",
      "23    503.424638\n",
      "Name: value, dtype: float64\n",
      "Pandas Time: 0.0032 seconds, Dask Time: 0.2724 seconds\n"
     ]
    }
   ],
   "source": [
    "# Convert timestamp column to datetime (Pandas)\n",
    "df['hour'] = df['timestamp'].dt.hour\n",
    "start_time = time.time()\n",
    "pandas_time_series = df.groupby('hour')['value'].mean()\n",
    "pandas_time_series_time = time.time() - start_time\n",
    "\n",
    "# Dask Time Aggregation\n",
    "dask_df['timestamp'] = dd.to_datetime(dask_df['timestamp'])\n",
    "dask_df['hour'] = dask_df['timestamp'].dt.hour\n",
    "start_time = time.time()\n",
    "dask_time_series = dask_df.groupby('hour')['value'].mean().compute()\n",
    "dask_time_series_time = time.time() - start_time\n",
    "\n",
    "print(\"\\nPandas Value by Hour:\\n\", pandas_time_series)\n",
    "print(\"\\nDask Value by Hour:\\n\", dask_time_series)\n",
    "print(f\"Pandas Time: {pandas_time_series_time:.4f} seconds, Dask Time: {dask_time_series_time:.4f} seconds\")"
   ]
  },
  {
   "cell_type": "code",
   "execution_count": 14,
   "id": "9e5fb078-3e91-4789-b3b4-89b3d1c285d0",
   "metadata": {},
   "outputs": [
    {
     "data": {
      "image/png": "[encoded data removed]",
      "text/plain": [
       "<Figure size 1000x400 with 1 Axes>"
      ]
     },
     "metadata": {},
     "output_type": "display_data"
    }
   ],
   "source": [
    "# Plot Category Distribution\n",
    "plt.figure(figsize=(10, 4))\n",
    "pandas_category_count.plot(kind='bar', color=['blue', 'green', 'red', 'purple'])\n",
    "plt.title(\"Category Distribution (Pandas)\")\n",
    "plt.xlabel(\"Category\")\n",
    "plt.ylabel(\"Count\")\n",
    "plt.show()\n"
   ]
  },
  {
   "cell_type": "code",
   "execution_count": null,
   "id": "339378d8-ed77-42b6-b7dc-1bbcaed2296f",
   "metadata": {},
   "outputs": [],
   "source": []
  }
 ],
 "metadata": {
  "kernelspec": {
   "display_name": "Python 3 (ipykernel)",
   "language": "python",
   "name": "python3"
  },
  "language_info": {
   "codemirror_mode": {
    "name": "ipython",
    "version": 3
   },
   "file_extension": ".py",
   "mimetype": "text/x-python",
   "name": "python",
   "nbconvert_exporter": "python",
   "pygments_lexer": "ipython3",
   "version": "3.12.7"
  }
 },
 "nbformat": 4,
 "nbformat_minor": 5
}
